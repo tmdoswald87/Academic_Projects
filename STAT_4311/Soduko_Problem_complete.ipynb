{
 "cells": [
  {
   "cell_type": "code",
   "execution_count": 1,
   "metadata": {},
   "outputs": [],
   "source": [
    "using JuMP, Cbc, GLPK"
   ]
  },
  {
   "cell_type": "code",
   "execution_count": 2,
   "metadata": {},
   "outputs": [
    {
     "data": {
      "text/plain": [
       "9×9×9 Array{VariableRef,3}:\n",
       "[:, :, 1] =\n",
       " x[1,1,1]  x[1,2,1]  x[1,3,1]  x[1,4,1]  …  x[1,7,1]  x[1,8,1]  x[1,9,1]\n",
       " x[2,1,1]  x[2,2,1]  x[2,3,1]  x[2,4,1]     x[2,7,1]  x[2,8,1]  x[2,9,1]\n",
       " x[3,1,1]  x[3,2,1]  x[3,3,1]  x[3,4,1]     x[3,7,1]  x[3,8,1]  x[3,9,1]\n",
       " x[4,1,1]  x[4,2,1]  x[4,3,1]  x[4,4,1]     x[4,7,1]  x[4,8,1]  x[4,9,1]\n",
       " x[5,1,1]  x[5,2,1]  x[5,3,1]  x[5,4,1]     x[5,7,1]  x[5,8,1]  x[5,9,1]\n",
       " x[6,1,1]  x[6,2,1]  x[6,3,1]  x[6,4,1]  …  x[6,7,1]  x[6,8,1]  x[6,9,1]\n",
       " x[7,1,1]  x[7,2,1]  x[7,3,1]  x[7,4,1]     x[7,7,1]  x[7,8,1]  x[7,9,1]\n",
       " x[8,1,1]  x[8,2,1]  x[8,3,1]  x[8,4,1]     x[8,7,1]  x[8,8,1]  x[8,9,1]\n",
       " x[9,1,1]  x[9,2,1]  x[9,3,1]  x[9,4,1]     x[9,7,1]  x[9,8,1]  x[9,9,1]\n",
       "\n",
       "[:, :, 2] =\n",
       " x[1,1,2]  x[1,2,2]  x[1,3,2]  x[1,4,2]  …  x[1,7,2]  x[1,8,2]  x[1,9,2]\n",
       " x[2,1,2]  x[2,2,2]  x[2,3,2]  x[2,4,2]     x[2,7,2]  x[2,8,2]  x[2,9,2]\n",
       " x[3,1,2]  x[3,2,2]  x[3,3,2]  x[3,4,2]     x[3,7,2]  x[3,8,2]  x[3,9,2]\n",
       " x[4,1,2]  x[4,2,2]  x[4,3,2]  x[4,4,2]     x[4,7,2]  x[4,8,2]  x[4,9,2]\n",
       " x[5,1,2]  x[5,2,2]  x[5,3,2]  x[5,4,2]     x[5,7,2]  x[5,8,2]  x[5,9,2]\n",
       " x[6,1,2]  x[6,2,2]  x[6,3,2]  x[6,4,2]  …  x[6,7,2]  x[6,8,2]  x[6,9,2]\n",
       " x[7,1,2]  x[7,2,2]  x[7,3,2]  x[7,4,2]     x[7,7,2]  x[7,8,2]  x[7,9,2]\n",
       " x[8,1,2]  x[8,2,2]  x[8,3,2]  x[8,4,2]     x[8,7,2]  x[8,8,2]  x[8,9,2]\n",
       " x[9,1,2]  x[9,2,2]  x[9,3,2]  x[9,4,2]     x[9,7,2]  x[9,8,2]  x[9,9,2]\n",
       "\n",
       "[:, :, 3] =\n",
       " x[1,1,3]  x[1,2,3]  x[1,3,3]  x[1,4,3]  …  x[1,7,3]  x[1,8,3]  x[1,9,3]\n",
       " x[2,1,3]  x[2,2,3]  x[2,3,3]  x[2,4,3]     x[2,7,3]  x[2,8,3]  x[2,9,3]\n",
       " x[3,1,3]  x[3,2,3]  x[3,3,3]  x[3,4,3]     x[3,7,3]  x[3,8,3]  x[3,9,3]\n",
       " x[4,1,3]  x[4,2,3]  x[4,3,3]  x[4,4,3]     x[4,7,3]  x[4,8,3]  x[4,9,3]\n",
       " x[5,1,3]  x[5,2,3]  x[5,3,3]  x[5,4,3]     x[5,7,3]  x[5,8,3]  x[5,9,3]\n",
       " x[6,1,3]  x[6,2,3]  x[6,3,3]  x[6,4,3]  …  x[6,7,3]  x[6,8,3]  x[6,9,3]\n",
       " x[7,1,3]  x[7,2,3]  x[7,3,3]  x[7,4,3]     x[7,7,3]  x[7,8,3]  x[7,9,3]\n",
       " x[8,1,3]  x[8,2,3]  x[8,3,3]  x[8,4,3]     x[8,7,3]  x[8,8,3]  x[8,9,3]\n",
       " x[9,1,3]  x[9,2,3]  x[9,3,3]  x[9,4,3]     x[9,7,3]  x[9,8,3]  x[9,9,3]\n",
       "\n",
       "[:, :, 4] =\n",
       " x[1,1,4]  x[1,2,4]  x[1,3,4]  x[1,4,4]  …  x[1,7,4]  x[1,8,4]  x[1,9,4]\n",
       " x[2,1,4]  x[2,2,4]  x[2,3,4]  x[2,4,4]     x[2,7,4]  x[2,8,4]  x[2,9,4]\n",
       " x[3,1,4]  x[3,2,4]  x[3,3,4]  x[3,4,4]     x[3,7,4]  x[3,8,4]  x[3,9,4]\n",
       " x[4,1,4]  x[4,2,4]  x[4,3,4]  x[4,4,4]     x[4,7,4]  x[4,8,4]  x[4,9,4]\n",
       " x[5,1,4]  x[5,2,4]  x[5,3,4]  x[5,4,4]     x[5,7,4]  x[5,8,4]  x[5,9,4]\n",
       " x[6,1,4]  x[6,2,4]  x[6,3,4]  x[6,4,4]  …  x[6,7,4]  x[6,8,4]  x[6,9,4]\n",
       " x[7,1,4]  x[7,2,4]  x[7,3,4]  x[7,4,4]     x[7,7,4]  x[7,8,4]  x[7,9,4]\n",
       " x[8,1,4]  x[8,2,4]  x[8,3,4]  x[8,4,4]     x[8,7,4]  x[8,8,4]  x[8,9,4]\n",
       " x[9,1,4]  x[9,2,4]  x[9,3,4]  x[9,4,4]     x[9,7,4]  x[9,8,4]  x[9,9,4]\n",
       "\n",
       "[:, :, 5] =\n",
       " x[1,1,5]  x[1,2,5]  x[1,3,5]  x[1,4,5]  …  x[1,7,5]  x[1,8,5]  x[1,9,5]\n",
       " x[2,1,5]  x[2,2,5]  x[2,3,5]  x[2,4,5]     x[2,7,5]  x[2,8,5]  x[2,9,5]\n",
       " x[3,1,5]  x[3,2,5]  x[3,3,5]  x[3,4,5]     x[3,7,5]  x[3,8,5]  x[3,9,5]\n",
       " x[4,1,5]  x[4,2,5]  x[4,3,5]  x[4,4,5]     x[4,7,5]  x[4,8,5]  x[4,9,5]\n",
       " x[5,1,5]  x[5,2,5]  x[5,3,5]  x[5,4,5]     x[5,7,5]  x[5,8,5]  x[5,9,5]\n",
       " x[6,1,5]  x[6,2,5]  x[6,3,5]  x[6,4,5]  …  x[6,7,5]  x[6,8,5]  x[6,9,5]\n",
       " x[7,1,5]  x[7,2,5]  x[7,3,5]  x[7,4,5]     x[7,7,5]  x[7,8,5]  x[7,9,5]\n",
       " x[8,1,5]  x[8,2,5]  x[8,3,5]  x[8,4,5]     x[8,7,5]  x[8,8,5]  x[8,9,5]\n",
       " x[9,1,5]  x[9,2,5]  x[9,3,5]  x[9,4,5]     x[9,7,5]  x[9,8,5]  x[9,9,5]\n",
       "\n",
       "[:, :, 6] =\n",
       " x[1,1,6]  x[1,2,6]  x[1,3,6]  x[1,4,6]  …  x[1,7,6]  x[1,8,6]  x[1,9,6]\n",
       " x[2,1,6]  x[2,2,6]  x[2,3,6]  x[2,4,6]     x[2,7,6]  x[2,8,6]  x[2,9,6]\n",
       " x[3,1,6]  x[3,2,6]  x[3,3,6]  x[3,4,6]     x[3,7,6]  x[3,8,6]  x[3,9,6]\n",
       " x[4,1,6]  x[4,2,6]  x[4,3,6]  x[4,4,6]     x[4,7,6]  x[4,8,6]  x[4,9,6]\n",
       " x[5,1,6]  x[5,2,6]  x[5,3,6]  x[5,4,6]     x[5,7,6]  x[5,8,6]  x[5,9,6]\n",
       " x[6,1,6]  x[6,2,6]  x[6,3,6]  x[6,4,6]  …  x[6,7,6]  x[6,8,6]  x[6,9,6]\n",
       " x[7,1,6]  x[7,2,6]  x[7,3,6]  x[7,4,6]     x[7,7,6]  x[7,8,6]  x[7,9,6]\n",
       " x[8,1,6]  x[8,2,6]  x[8,3,6]  x[8,4,6]     x[8,7,6]  x[8,8,6]  x[8,9,6]\n",
       " x[9,1,6]  x[9,2,6]  x[9,3,6]  x[9,4,6]     x[9,7,6]  x[9,8,6]  x[9,9,6]\n",
       "\n",
       "[:, :, 7] =\n",
       " x[1,1,7]  x[1,2,7]  x[1,3,7]  x[1,4,7]  …  x[1,7,7]  x[1,8,7]  x[1,9,7]\n",
       " x[2,1,7]  x[2,2,7]  x[2,3,7]  x[2,4,7]     x[2,7,7]  x[2,8,7]  x[2,9,7]\n",
       " x[3,1,7]  x[3,2,7]  x[3,3,7]  x[3,4,7]     x[3,7,7]  x[3,8,7]  x[3,9,7]\n",
       " x[4,1,7]  x[4,2,7]  x[4,3,7]  x[4,4,7]     x[4,7,7]  x[4,8,7]  x[4,9,7]\n",
       " x[5,1,7]  x[5,2,7]  x[5,3,7]  x[5,4,7]     x[5,7,7]  x[5,8,7]  x[5,9,7]\n",
       " x[6,1,7]  x[6,2,7]  x[6,3,7]  x[6,4,7]  …  x[6,7,7]  x[6,8,7]  x[6,9,7]\n",
       " x[7,1,7]  x[7,2,7]  x[7,3,7]  x[7,4,7]     x[7,7,7]  x[7,8,7]  x[7,9,7]\n",
       " x[8,1,7]  x[8,2,7]  x[8,3,7]  x[8,4,7]     x[8,7,7]  x[8,8,7]  x[8,9,7]\n",
       " x[9,1,7]  x[9,2,7]  x[9,3,7]  x[9,4,7]     x[9,7,7]  x[9,8,7]  x[9,9,7]\n",
       "\n",
       "[:, :, 8] =\n",
       " x[1,1,8]  x[1,2,8]  x[1,3,8]  x[1,4,8]  …  x[1,7,8]  x[1,8,8]  x[1,9,8]\n",
       " x[2,1,8]  x[2,2,8]  x[2,3,8]  x[2,4,8]     x[2,7,8]  x[2,8,8]  x[2,9,8]\n",
       " x[3,1,8]  x[3,2,8]  x[3,3,8]  x[3,4,8]     x[3,7,8]  x[3,8,8]  x[3,9,8]\n",
       " x[4,1,8]  x[4,2,8]  x[4,3,8]  x[4,4,8]     x[4,7,8]  x[4,8,8]  x[4,9,8]\n",
       " x[5,1,8]  x[5,2,8]  x[5,3,8]  x[5,4,8]     x[5,7,8]  x[5,8,8]  x[5,9,8]\n",
       " x[6,1,8]  x[6,2,8]  x[6,3,8]  x[6,4,8]  …  x[6,7,8]  x[6,8,8]  x[6,9,8]\n",
       " x[7,1,8]  x[7,2,8]  x[7,3,8]  x[7,4,8]     x[7,7,8]  x[7,8,8]  x[7,9,8]\n",
       " x[8,1,8]  x[8,2,8]  x[8,3,8]  x[8,4,8]     x[8,7,8]  x[8,8,8]  x[8,9,8]\n",
       " x[9,1,8]  x[9,2,8]  x[9,3,8]  x[9,4,8]     x[9,7,8]  x[9,8,8]  x[9,9,8]\n",
       "\n",
       "[:, :, 9] =\n",
       " x[1,1,9]  x[1,2,9]  x[1,3,9]  x[1,4,9]  …  x[1,7,9]  x[1,8,9]  x[1,9,9]\n",
       " x[2,1,9]  x[2,2,9]  x[2,3,9]  x[2,4,9]     x[2,7,9]  x[2,8,9]  x[2,9,9]\n",
       " x[3,1,9]  x[3,2,9]  x[3,3,9]  x[3,4,9]     x[3,7,9]  x[3,8,9]  x[3,9,9]\n",
       " x[4,1,9]  x[4,2,9]  x[4,3,9]  x[4,4,9]     x[4,7,9]  x[4,8,9]  x[4,9,9]\n",
       " x[5,1,9]  x[5,2,9]  x[5,3,9]  x[5,4,9]     x[5,7,9]  x[5,8,9]  x[5,9,9]\n",
       " x[6,1,9]  x[6,2,9]  x[6,3,9]  x[6,4,9]  …  x[6,7,9]  x[6,8,9]  x[6,9,9]\n",
       " x[7,1,9]  x[7,2,9]  x[7,3,9]  x[7,4,9]     x[7,7,9]  x[7,8,9]  x[7,9,9]\n",
       " x[8,1,9]  x[8,2,9]  x[8,3,9]  x[8,4,9]     x[8,7,9]  x[8,8,9]  x[8,9,9]\n",
       " x[9,1,9]  x[9,2,9]  x[9,3,9]  x[9,4,9]     x[9,7,9]  x[9,8,9]  x[9,9,9]"
      ]
     },
     "execution_count": 2,
     "metadata": {},
     "output_type": "execute_result"
    }
   ],
   "source": [
    "model = Model(with_optimizer(GLPK.Optimizer))\n",
    "\n",
    "# Number of columns, rows, values\n",
    "\n",
    "@variable(model, x[i=1:9, j=1:9, k=1:9], Bin)\n",
    "# The syntax of this model is such that if any indices of x has a number k it will equal 1"
   ]
  },
  {
   "cell_type": "markdown",
   "metadata": {},
   "source": [
    "For these next few constraints this took time even with presented solutions to the sudoku. The syntax for these constraints were constraints were added such that they fit the true formula. For example, the column constraints were the sum of all the i's from 1 to 9 **(aka the rows)**.\n",
    "\n",
    "So mathematically the individual column required a (n_rows x n_possible_k's). This means that for every individual column sum we will have 9x9 constriants. So the syntax is written in the form such that **every  row for every column can have ONE possible k which is why the SUM will be one**. Only one k at a specific x[i,j,k] will be 1 while all others of that one will be off. Once it is it will be selected for in a solution parser function below."
   ]
  },
  {
   "cell_type": "markdown",
   "metadata": {},
   "source": [
    "# Column Constraint"
   ]
  },
  {
   "cell_type": "markdown",
   "metadata": {},
   "source": [
    "The syntax of this constraint is\n",
    "\n",
    "@constraint ( name of Model(),\n",
    "\n",
    "individual name of constraints (which i iterated) ,\n",
    "\n",
    "expression i wanted my constraint to be (i.e. the formula from class)\n",
    ")"
   ]
  },
  {
   "cell_type": "code",
   "execution_count": 3,
   "metadata": {},
   "outputs": [
    {
     "data": {
      "text/plain": [
       "9×9 Array{ConstraintRef{Model,C,Shape} where Shape<:AbstractShape where C,2}:\n",
       " col[1,1] : x[1,1,1] + x[2,1,1] + x[3,1,1] + x[4,1,1] + x[5,1,1] + x[6,1,1] + x[7,1,1] + x[8,1,1] + x[9,1,1] == 1.0  …  col[1,9] : x[1,1,9] + x[2,1,9] + x[3,1,9] + x[4,1,9] + x[5,1,9] + x[6,1,9] + x[7,1,9] + x[8,1,9] + x[9,1,9] == 1.0\n",
       " col[2,1] : x[1,2,1] + x[2,2,1] + x[3,2,1] + x[4,2,1] + x[5,2,1] + x[6,2,1] + x[7,2,1] + x[8,2,1] + x[9,2,1] == 1.0     col[2,9] : x[1,2,9] + x[2,2,9] + x[3,2,9] + x[4,2,9] + x[5,2,9] + x[6,2,9] + x[7,2,9] + x[8,2,9] + x[9,2,9] == 1.0\n",
       " col[3,1] : x[1,3,1] + x[2,3,1] + x[3,3,1] + x[4,3,1] + x[5,3,1] + x[6,3,1] + x[7,3,1] + x[8,3,1] + x[9,3,1] == 1.0     col[3,9] : x[1,3,9] + x[2,3,9] + x[3,3,9] + x[4,3,9] + x[5,3,9] + x[6,3,9] + x[7,3,9] + x[8,3,9] + x[9,3,9] == 1.0\n",
       " col[4,1] : x[1,4,1] + x[2,4,1] + x[3,4,1] + x[4,4,1] + x[5,4,1] + x[6,4,1] + x[7,4,1] + x[8,4,1] + x[9,4,1] == 1.0     col[4,9] : x[1,4,9] + x[2,4,9] + x[3,4,9] + x[4,4,9] + x[5,4,9] + x[6,4,9] + x[7,4,9] + x[8,4,9] + x[9,4,9] == 1.0\n",
       " col[5,1] : x[1,5,1] + x[2,5,1] + x[3,5,1] + x[4,5,1] + x[5,5,1] + x[6,5,1] + x[7,5,1] + x[8,5,1] + x[9,5,1] == 1.0     col[5,9] : x[1,5,9] + x[2,5,9] + x[3,5,9] + x[4,5,9] + x[5,5,9] + x[6,5,9] + x[7,5,9] + x[8,5,9] + x[9,5,9] == 1.0\n",
       " col[6,1] : x[1,6,1] + x[2,6,1] + x[3,6,1] + x[4,6,1] + x[5,6,1] + x[6,6,1] + x[7,6,1] + x[8,6,1] + x[9,6,1] == 1.0  …  col[6,9] : x[1,6,9] + x[2,6,9] + x[3,6,9] + x[4,6,9] + x[5,6,9] + x[6,6,9] + x[7,6,9] + x[8,6,9] + x[9,6,9] == 1.0\n",
       " col[7,1] : x[1,7,1] + x[2,7,1] + x[3,7,1] + x[4,7,1] + x[5,7,1] + x[6,7,1] + x[7,7,1] + x[8,7,1] + x[9,7,1] == 1.0     col[7,9] : x[1,7,9] + x[2,7,9] + x[3,7,9] + x[4,7,9] + x[5,7,9] + x[6,7,9] + x[7,7,9] + x[8,7,9] + x[9,7,9] == 1.0\n",
       " col[8,1] : x[1,8,1] + x[2,8,1] + x[3,8,1] + x[4,8,1] + x[5,8,1] + x[6,8,1] + x[7,8,1] + x[8,8,1] + x[9,8,1] == 1.0     col[8,9] : x[1,8,9] + x[2,8,9] + x[3,8,9] + x[4,8,9] + x[5,8,9] + x[6,8,9] + x[7,8,9] + x[8,8,9] + x[9,8,9] == 1.0\n",
       " col[9,1] : x[1,9,1] + x[2,9,1] + x[3,9,1] + x[4,9,1] + x[5,9,1] + x[6,9,1] + x[7,9,1] + x[8,9,1] + x[9,9,1] == 1.0     col[9,9] : x[1,9,9] + x[2,9,9] + x[3,9,9] + x[4,9,9] + x[5,9,9] + x[6,9,9] + x[7,9,9] + x[8,9,9] + x[9,9,9] == 1.0"
      ]
     },
     "execution_count": 3,
     "metadata": {},
     "output_type": "execute_result"
    }
   ],
   "source": [
    "@constraint(model, col[j=1:9,k=1:9], sum(x[i,j,k] for i in 1:9 )==1)"
   ]
  },
  {
   "cell_type": "markdown",
   "metadata": {},
   "source": [
    "# Row Constraint"
   ]
  },
  {
   "cell_type": "code",
   "execution_count": 4,
   "metadata": {},
   "outputs": [
    {
     "data": {
      "text/plain": [
       "9×9 Array{ConstraintRef{Model,C,Shape} where Shape<:AbstractShape where C,2}:\n",
       " row[1,1] : x[1,1,1] + x[1,2,1] + x[1,3,1] + x[1,4,1] + x[1,5,1] + x[1,6,1] + x[1,7,1] + x[1,8,1] + x[1,9,1] == 1.0  …  row[1,9] : x[1,1,9] + x[1,2,9] + x[1,3,9] + x[1,4,9] + x[1,5,9] + x[1,6,9] + x[1,7,9] + x[1,8,9] + x[1,9,9] == 1.0\n",
       " row[2,1] : x[2,1,1] + x[2,2,1] + x[2,3,1] + x[2,4,1] + x[2,5,1] + x[2,6,1] + x[2,7,1] + x[2,8,1] + x[2,9,1] == 1.0     row[2,9] : x[2,1,9] + x[2,2,9] + x[2,3,9] + x[2,4,9] + x[2,5,9] + x[2,6,9] + x[2,7,9] + x[2,8,9] + x[2,9,9] == 1.0\n",
       " row[3,1] : x[3,1,1] + x[3,2,1] + x[3,3,1] + x[3,4,1] + x[3,5,1] + x[3,6,1] + x[3,7,1] + x[3,8,1] + x[3,9,1] == 1.0     row[3,9] : x[3,1,9] + x[3,2,9] + x[3,3,9] + x[3,4,9] + x[3,5,9] + x[3,6,9] + x[3,7,9] + x[3,8,9] + x[3,9,9] == 1.0\n",
       " row[4,1] : x[4,1,1] + x[4,2,1] + x[4,3,1] + x[4,4,1] + x[4,5,1] + x[4,6,1] + x[4,7,1] + x[4,8,1] + x[4,9,1] == 1.0     row[4,9] : x[4,1,9] + x[4,2,9] + x[4,3,9] + x[4,4,9] + x[4,5,9] + x[4,6,9] + x[4,7,9] + x[4,8,9] + x[4,9,9] == 1.0\n",
       " row[5,1] : x[5,1,1] + x[5,2,1] + x[5,3,1] + x[5,4,1] + x[5,5,1] + x[5,6,1] + x[5,7,1] + x[5,8,1] + x[5,9,1] == 1.0     row[5,9] : x[5,1,9] + x[5,2,9] + x[5,3,9] + x[5,4,9] + x[5,5,9] + x[5,6,9] + x[5,7,9] + x[5,8,9] + x[5,9,9] == 1.0\n",
       " row[6,1] : x[6,1,1] + x[6,2,1] + x[6,3,1] + x[6,4,1] + x[6,5,1] + x[6,6,1] + x[6,7,1] + x[6,8,1] + x[6,9,1] == 1.0  …  row[6,9] : x[6,1,9] + x[6,2,9] + x[6,3,9] + x[6,4,9] + x[6,5,9] + x[6,6,9] + x[6,7,9] + x[6,8,9] + x[6,9,9] == 1.0\n",
       " row[7,1] : x[7,1,1] + x[7,2,1] + x[7,3,1] + x[7,4,1] + x[7,5,1] + x[7,6,1] + x[7,7,1] + x[7,8,1] + x[7,9,1] == 1.0     row[7,9] : x[7,1,9] + x[7,2,9] + x[7,3,9] + x[7,4,9] + x[7,5,9] + x[7,6,9] + x[7,7,9] + x[7,8,9] + x[7,9,9] == 1.0\n",
       " row[8,1] : x[8,1,1] + x[8,2,1] + x[8,3,1] + x[8,4,1] + x[8,5,1] + x[8,6,1] + x[8,7,1] + x[8,8,1] + x[8,9,1] == 1.0     row[8,9] : x[8,1,9] + x[8,2,9] + x[8,3,9] + x[8,4,9] + x[8,5,9] + x[8,6,9] + x[8,7,9] + x[8,8,9] + x[8,9,9] == 1.0\n",
       " row[9,1] : x[9,1,1] + x[9,2,1] + x[9,3,1] + x[9,4,1] + x[9,5,1] + x[9,6,1] + x[9,7,1] + x[9,8,1] + x[9,9,1] == 1.0     row[9,9] : x[9,1,9] + x[9,2,9] + x[9,3,9] + x[9,4,9] + x[9,5,9] + x[9,6,9] + x[9,7,9] + x[9,8,9] + x[9,9,9] == 1.0"
      ]
     },
     "execution_count": 4,
     "metadata": {},
     "output_type": "execute_result"
    }
   ],
   "source": [
    "@constraint(model,row[i=1:9,k=1:9], sum(x[i,j,k] for j in 1:9 )==1)"
   ]
  },
  {
   "cell_type": "markdown",
   "metadata": {},
   "source": [
    "# Completely Filled Sudoku Constraint"
   ]
  },
  {
   "cell_type": "code",
   "execution_count": 5,
   "metadata": {},
   "outputs": [
    {
     "data": {
      "text/plain": [
       "9×9 Array{ConstraintRef{Model,C,Shape} where Shape<:AbstractShape where C,2}:\n",
       " filled[1,1] : x[1,1,1] + x[1,1,2] + x[1,1,3] + x[1,1,4] + x[1,1,5] + x[1,1,6] + x[1,1,7] + x[1,1,8] + x[1,1,9] == 1.0  …  filled[1,9] : x[1,9,1] + x[1,9,2] + x[1,9,3] + x[1,9,4] + x[1,9,5] + x[1,9,6] + x[1,9,7] + x[1,9,8] + x[1,9,9] == 1.0\n",
       " filled[2,1] : x[2,1,1] + x[2,1,2] + x[2,1,3] + x[2,1,4] + x[2,1,5] + x[2,1,6] + x[2,1,7] + x[2,1,8] + x[2,1,9] == 1.0     filled[2,9] : x[2,9,1] + x[2,9,2] + x[2,9,3] + x[2,9,4] + x[2,9,5] + x[2,9,6] + x[2,9,7] + x[2,9,8] + x[2,9,9] == 1.0\n",
       " filled[3,1] : x[3,1,1] + x[3,1,2] + x[3,1,3] + x[3,1,4] + x[3,1,5] + x[3,1,6] + x[3,1,7] + x[3,1,8] + x[3,1,9] == 1.0     filled[3,9] : x[3,9,1] + x[3,9,2] + x[3,9,3] + x[3,9,4] + x[3,9,5] + x[3,9,6] + x[3,9,7] + x[3,9,8] + x[3,9,9] == 1.0\n",
       " filled[4,1] : x[4,1,1] + x[4,1,2] + x[4,1,3] + x[4,1,4] + x[4,1,5] + x[4,1,6] + x[4,1,7] + x[4,1,8] + x[4,1,9] == 1.0     filled[4,9] : x[4,9,1] + x[4,9,2] + x[4,9,3] + x[4,9,4] + x[4,9,5] + x[4,9,6] + x[4,9,7] + x[4,9,8] + x[4,9,9] == 1.0\n",
       " filled[5,1] : x[5,1,1] + x[5,1,2] + x[5,1,3] + x[5,1,4] + x[5,1,5] + x[5,1,6] + x[5,1,7] + x[5,1,8] + x[5,1,9] == 1.0     filled[5,9] : x[5,9,1] + x[5,9,2] + x[5,9,3] + x[5,9,4] + x[5,9,5] + x[5,9,6] + x[5,9,7] + x[5,9,8] + x[5,9,9] == 1.0\n",
       " filled[6,1] : x[6,1,1] + x[6,1,2] + x[6,1,3] + x[6,1,4] + x[6,1,5] + x[6,1,6] + x[6,1,7] + x[6,1,8] + x[6,1,9] == 1.0  …  filled[6,9] : x[6,9,1] + x[6,9,2] + x[6,9,3] + x[6,9,4] + x[6,9,5] + x[6,9,6] + x[6,9,7] + x[6,9,8] + x[6,9,9] == 1.0\n",
       " filled[7,1] : x[7,1,1] + x[7,1,2] + x[7,1,3] + x[7,1,4] + x[7,1,5] + x[7,1,6] + x[7,1,7] + x[7,1,8] + x[7,1,9] == 1.0     filled[7,9] : x[7,9,1] + x[7,9,2] + x[7,9,3] + x[7,9,4] + x[7,9,5] + x[7,9,6] + x[7,9,7] + x[7,9,8] + x[7,9,9] == 1.0\n",
       " filled[8,1] : x[8,1,1] + x[8,1,2] + x[8,1,3] + x[8,1,4] + x[8,1,5] + x[8,1,6] + x[8,1,7] + x[8,1,8] + x[8,1,9] == 1.0     filled[8,9] : x[8,9,1] + x[8,9,2] + x[8,9,3] + x[8,9,4] + x[8,9,5] + x[8,9,6] + x[8,9,7] + x[8,9,8] + x[8,9,9] == 1.0\n",
       " filled[9,1] : x[9,1,1] + x[9,1,2] + x[9,1,3] + x[9,1,4] + x[9,1,5] + x[9,1,6] + x[9,1,7] + x[9,1,8] + x[9,1,9] == 1.0     filled[9,9] : x[9,9,1] + x[9,9,2] + x[9,9,3] + x[9,9,4] + x[9,9,5] + x[9,9,6] + x[9,9,7] + x[9,9,8] + x[9,9,9] == 1.0"
      ]
     },
     "execution_count": 5,
     "metadata": {},
     "output_type": "execute_result"
    }
   ],
   "source": [
    "@constraint(model, filled[i=1:9,j=1:9], sum(x[i,j,k] for k in 1:9)==1)"
   ]
  },
  {
   "cell_type": "markdown",
   "metadata": {},
   "source": [
    "# Sub Matrices  Sudoku Constraint"
   ]
  },
  {
   "cell_type": "code",
   "execution_count": 6,
   "metadata": {},
   "outputs": [
    {
     "data": {
      "text/plain": [
       "9-element Array{ConstraintRef{Model,C,Shape} where Shape<:AbstractShape where C,1}:\n",
       " submatLR[1] : x[7,7,1] + x[8,7,1] + x[9,7,1] + x[7,8,1] + x[8,8,1] + x[9,8,1] + x[7,9,1] + x[8,9,1] + x[9,9,1] == 1.0\n",
       " submatLR[2] : x[7,7,2] + x[8,7,2] + x[9,7,2] + x[7,8,2] + x[8,8,2] + x[9,8,2] + x[7,9,2] + x[8,9,2] + x[9,9,2] == 1.0\n",
       " submatLR[3] : x[7,7,3] + x[8,7,3] + x[9,7,3] + x[7,8,3] + x[8,8,3] + x[9,8,3] + x[7,9,3] + x[8,9,3] + x[9,9,3] == 1.0\n",
       " submatLR[4] : x[7,7,4] + x[8,7,4] + x[9,7,4] + x[7,8,4] + x[8,8,4] + x[9,8,4] + x[7,9,4] + x[8,9,4] + x[9,9,4] == 1.0\n",
       " submatLR[5] : x[7,7,5] + x[8,7,5] + x[9,7,5] + x[7,8,5] + x[8,8,5] + x[9,8,5] + x[7,9,5] + x[8,9,5] + x[9,9,5] == 1.0\n",
       " submatLR[6] : x[7,7,6] + x[8,7,6] + x[9,7,6] + x[7,8,6] + x[8,8,6] + x[9,8,6] + x[7,9,6] + x[8,9,6] + x[9,9,6] == 1.0\n",
       " submatLR[7] : x[7,7,7] + x[8,7,7] + x[9,7,7] + x[7,8,7] + x[8,8,7] + x[9,8,7] + x[7,9,7] + x[8,9,7] + x[9,9,7] == 1.0\n",
       " submatLR[8] : x[7,7,8] + x[8,7,8] + x[9,7,8] + x[7,8,8] + x[8,8,8] + x[9,8,8] + x[7,9,8] + x[8,9,8] + x[9,9,8] == 1.0\n",
       " submatLR[9] : x[7,7,9] + x[8,7,9] + x[9,7,9] + x[7,8,9] + x[8,8,9] + x[9,8,9] + x[7,9,9] + x[8,9,9] + x[9,9,9] == 1.0"
      ]
     },
     "execution_count": 6,
     "metadata": {},
     "output_type": "execute_result"
    }
   ],
   "source": [
    "@constraint(model, submatUL[k=1:9], sum(sum(x[1:3,1:3,k]))==1)\n",
    "@constraint(model, submatUM[k=1:9], sum(sum(x[1:3,4:6,k]))==1)\n",
    "@constraint(model, submatUR[k=1:9], sum(sum(x[1:3,7:9,k]))==1)\n",
    "\n",
    "@constraint(model, submatML[k=1:9], sum(sum(x[4:6,1:3,k]))==1)\n",
    "@constraint(model, submatMM[k=1:9], sum(sum(x[4:6,4:6,k]))==1)\n",
    "@constraint(model, submatMR[k=1:9], sum(sum(x[4:6,7:9,k]))==1)\n",
    "\n",
    "@constraint(model, submatLL[k=1:9], sum(sum(x[7:9,1:3,k]))==1)\n",
    "@constraint(model, submatLM[k=1:9], sum(sum(x[7:9,4:6,k]))==1)\n",
    "@constraint(model, submatLR[k=1:9], sum(sum(x[7:9,7:9,k]))==1)"
   ]
  },
  {
   "cell_type": "markdown",
   "metadata": {},
   "source": [
    "# Diagonal Constraint"
   ]
  },
  {
   "cell_type": "code",
   "execution_count": 7,
   "metadata": {},
   "outputs": [
    {
     "data": {
      "text/plain": [
       "9-element Array{ConstraintRef{Model,C,Shape} where Shape<:AbstractShape where C,1}:\n",
       " diagonalDT[1] : x[9,1,1] + x[8,2,1] + x[7,3,1] + x[6,4,1] + x[5,5,1] + x[4,6,1] + x[3,7,1] + x[2,8,1] + x[1,9,1] == 1.0\n",
       " diagonalDT[2] : x[9,1,2] + x[8,2,2] + x[7,3,2] + x[6,4,2] + x[5,5,2] + x[4,6,2] + x[3,7,2] + x[2,8,2] + x[1,9,2] == 1.0\n",
       " diagonalDT[3] : x[9,1,3] + x[8,2,3] + x[7,3,3] + x[6,4,3] + x[5,5,3] + x[4,6,3] + x[3,7,3] + x[2,8,3] + x[1,9,3] == 1.0\n",
       " diagonalDT[4] : x[9,1,4] + x[8,2,4] + x[7,3,4] + x[6,4,4] + x[5,5,4] + x[4,6,4] + x[3,7,4] + x[2,8,4] + x[1,9,4] == 1.0\n",
       " diagonalDT[5] : x[9,1,5] + x[8,2,5] + x[7,3,5] + x[6,4,5] + x[5,5,5] + x[4,6,5] + x[3,7,5] + x[2,8,5] + x[1,9,5] == 1.0\n",
       " diagonalDT[6] : x[9,1,6] + x[8,2,6] + x[7,3,6] + x[6,4,6] + x[5,5,6] + x[4,6,6] + x[3,7,6] + x[2,8,6] + x[1,9,6] == 1.0\n",
       " diagonalDT[7] : x[9,1,7] + x[8,2,7] + x[7,3,7] + x[6,4,7] + x[5,5,7] + x[4,6,7] + x[3,7,7] + x[2,8,7] + x[1,9,7] == 1.0\n",
       " diagonalDT[8] : x[9,1,8] + x[8,2,8] + x[7,3,8] + x[6,4,8] + x[5,5,8] + x[4,6,8] + x[3,7,8] + x[2,8,8] + x[1,9,8] == 1.0\n",
       " diagonalDT[9] : x[9,1,9] + x[8,2,9] + x[7,3,9] + x[6,4,9] + x[5,5,9] + x[4,6,9] + x[3,7,9] + x[2,8,9] + x[1,9,9] == 1.0"
      ]
     },
     "execution_count": 7,
     "metadata": {},
     "output_type": "execute_result"
    }
   ],
   "source": [
    "row_DT = []\n",
    "for i in 9:-1:1\n",
    "    append!(row_DT,i)\n",
    "end\n",
    "\n",
    "\n",
    "col_DT = []\n",
    "for j in 1:9\n",
    "    append!(col_DT,j)\n",
    "end\n",
    "\n",
    "@constraint(model, diagonalDT[k=1:9], sum(sum(x[row_DT[i],col_DT[i],k] for i in 1:9))==1)"
   ]
  },
  {
   "cell_type": "code",
   "execution_count": 8,
   "metadata": {},
   "outputs": [
    {
     "data": {
      "text/plain": [
       "9-element Array{ConstraintRef{Model,C,Shape} where Shape<:AbstractShape where C,1}:\n",
       " diagonalTD[1] : x[1,1,1] + x[2,2,1] + x[3,3,1] + x[4,4,1] + x[5,5,1] + x[6,6,1] + x[7,7,1] + x[8,8,1] + x[9,9,1] == 1.0\n",
       " diagonalTD[2] : x[1,1,2] + x[2,2,2] + x[3,3,2] + x[4,4,2] + x[5,5,2] + x[6,6,2] + x[7,7,2] + x[8,8,2] + x[9,9,2] == 1.0\n",
       " diagonalTD[3] : x[1,1,3] + x[2,2,3] + x[3,3,3] + x[4,4,3] + x[5,5,3] + x[6,6,3] + x[7,7,3] + x[8,8,3] + x[9,9,3] == 1.0\n",
       " diagonalTD[4] : x[1,1,4] + x[2,2,4] + x[3,3,4] + x[4,4,4] + x[5,5,4] + x[6,6,4] + x[7,7,4] + x[8,8,4] + x[9,9,4] == 1.0\n",
       " diagonalTD[5] : x[1,1,5] + x[2,2,5] + x[3,3,5] + x[4,4,5] + x[5,5,5] + x[6,6,5] + x[7,7,5] + x[8,8,5] + x[9,9,5] == 1.0\n",
       " diagonalTD[6] : x[1,1,6] + x[2,2,6] + x[3,3,6] + x[4,4,6] + x[5,5,6] + x[6,6,6] + x[7,7,6] + x[8,8,6] + x[9,9,6] == 1.0\n",
       " diagonalTD[7] : x[1,1,7] + x[2,2,7] + x[3,3,7] + x[4,4,7] + x[5,5,7] + x[6,6,7] + x[7,7,7] + x[8,8,7] + x[9,9,7] == 1.0\n",
       " diagonalTD[8] : x[1,1,8] + x[2,2,8] + x[3,3,8] + x[4,4,8] + x[5,5,8] + x[6,6,8] + x[7,7,8] + x[8,8,8] + x[9,9,8] == 1.0\n",
       " diagonalTD[9] : x[1,1,9] + x[2,2,9] + x[3,3,9] + x[4,4,9] + x[5,5,9] + x[6,6,9] + x[7,7,9] + x[8,8,9] + x[9,9,9] == 1.0"
      ]
     },
     "execution_count": 8,
     "metadata": {},
     "output_type": "execute_result"
    }
   ],
   "source": [
    "@constraint(model, diagonalTD[k=1:9], sum(sum(x[i,i,k] for i in 1:9))==1)"
   ]
  },
  {
   "cell_type": "code",
   "execution_count": 9,
   "metadata": {},
   "outputs": [
    {
     "data": {
      "text/plain": [
       "Dict{Symbol,Any} with 15 entries:\n",
       "  :submatUM   => ConstraintRef{Model,C,Shape} where Shape<:AbstractShape where …\n",
       "  :submatLR   => ConstraintRef{Model,C,Shape} where Shape<:AbstractShape where …\n",
       "  :submatLL   => ConstraintRef{Model,C,Shape} where Shape<:AbstractShape where …\n",
       "  :col        => ConstraintRef{Model,C,Shape} where Shape<:AbstractShape where …\n",
       "  :submatMM   => ConstraintRef{Model,C,Shape} where Shape<:AbstractShape where …\n",
       "  :x          => VariableRef[x[1,1,1] x[1,2,1] … x[1,8,1] x[1,9,1]; x[2,1,1] x[…\n",
       "  :submatMR   => ConstraintRef{Model,C,Shape} where Shape<:AbstractShape where …\n",
       "  :diagonalDT => ConstraintRef{Model,C,Shape} where Shape<:AbstractShape where …\n",
       "  :submatUL   => ConstraintRef{Model,C,Shape} where Shape<:AbstractShape where …\n",
       "  :submatLM   => ConstraintRef{Model,C,Shape} where Shape<:AbstractShape where …\n",
       "  :row        => ConstraintRef{Model,C,Shape} where Shape<:AbstractShape where …\n",
       "  :diagonalTD => ConstraintRef{Model,C,Shape} where Shape<:AbstractShape where …\n",
       "  :filled     => ConstraintRef{Model,C,Shape} where Shape<:AbstractShape where …\n",
       "  :submatUR   => ConstraintRef{Model,C,Shape} where Shape<:AbstractShape where …\n",
       "  :submatML   => ConstraintRef{Model,C,Shape} where Shape<:AbstractShape where …"
      ]
     },
     "execution_count": 9,
     "metadata": {},
     "output_type": "execute_result"
    }
   ],
   "source": [
    "constraint_dict = model.obj_dict"
   ]
  },
  {
   "cell_type": "code",
   "execution_count": 15,
   "metadata": {},
   "outputs": [
    {
     "data": {
      "text/plain": [
       "9-element Array{ConstraintRef{Model,C,Shape} where Shape<:AbstractShape where C,1}:\n",
       " diagonalDT[1] : x[9,1,1] + x[8,2,1] + x[7,3,1] + x[6,4,1] + x[5,5,1] + x[4,6,1] + x[3,7,1] + x[2,8,1] + x[1,9,1] == 1.0\n",
       " diagonalDT[2] : x[9,1,2] + x[8,2,2] + x[7,3,2] + x[6,4,2] + x[5,5,2] + x[4,6,2] + x[3,7,2] + x[2,8,2] + x[1,9,2] == 1.0\n",
       " diagonalDT[3] : x[9,1,3] + x[8,2,3] + x[7,3,3] + x[6,4,3] + x[5,5,3] + x[4,6,3] + x[3,7,3] + x[2,8,3] + x[1,9,3] == 1.0\n",
       " diagonalDT[4] : x[9,1,4] + x[8,2,4] + x[7,3,4] + x[6,4,4] + x[5,5,4] + x[4,6,4] + x[3,7,4] + x[2,8,4] + x[1,9,4] == 1.0\n",
       " diagonalDT[5] : x[9,1,5] + x[8,2,5] + x[7,3,5] + x[6,4,5] + x[5,5,5] + x[4,6,5] + x[3,7,5] + x[2,8,5] + x[1,9,5] == 1.0\n",
       " diagonalDT[6] : x[9,1,6] + x[8,2,6] + x[7,3,6] + x[6,4,6] + x[5,5,6] + x[4,6,6] + x[3,7,6] + x[2,8,6] + x[1,9,6] == 1.0\n",
       " diagonalDT[7] : x[9,1,7] + x[8,2,7] + x[7,3,7] + x[6,4,7] + x[5,5,7] + x[4,6,7] + x[3,7,7] + x[2,8,7] + x[1,9,7] == 1.0\n",
       " diagonalDT[8] : x[9,1,8] + x[8,2,8] + x[7,3,8] + x[6,4,8] + x[5,5,8] + x[4,6,8] + x[3,7,8] + x[2,8,8] + x[1,9,8] == 1.0\n",
       " diagonalDT[9] : x[9,1,9] + x[8,2,9] + x[7,3,9] + x[6,4,9] + x[5,5,9] + x[4,6,9] + x[3,7,9] + x[2,8,9] + x[1,9,9] == 1.0"
      ]
     },
     "execution_count": 15,
     "metadata": {},
     "output_type": "execute_result"
    }
   ],
   "source": [
    "constraint_dict[:diagonalDT]"
   ]
  },
  {
   "cell_type": "code",
   "execution_count": 16,
   "metadata": {},
   "outputs": [
    {
     "data": {
      "text/plain": [
       "9×9 Array{Int64,2}:\n",
       " 3  0  0  0  0  0  0  0  9\n",
       " 0  0  0  9  0  0  0  7  5\n",
       " 0  0  0  0  0  0  0  0  0\n",
       " 0  0  4  8  0  6  0  0  2\n",
       " 5  0  0  1  0  0  0  0  0\n",
       " 8  0  6  0  3  0  4  5  0\n",
       " 0  0  8  0  0  0  0  0  0\n",
       " 0  0  0  0  0  0  0  0  0\n",
       " 0  0  0  0  0  0  0  3  0"
      ]
     },
     "execution_count": 16,
     "metadata": {},
     "output_type": "execute_result"
    }
   ],
   "source": [
    "initial_grid = [\n",
    "    3 0 0 0 0 0 0 0 9;\n",
    "    0 0 0 9 0 0 0 7 5;\n",
    "    0 0 0 0 0 0 0 0 0;\n",
    "    0 0 4 8 0 6 0 0 2;\n",
    "    5 0 0 1 0 0 0 0 0;\n",
    "    8 0 6 0 3 0 4 5 0;\n",
    "    0 0 8 0 0 0 0 0 0;\n",
    "    0 0 0 0 0 0 0 0 0;\n",
    "    0 0 0 0 0 0 0 3 0;\n",
    "]\n",
    "\n",
    "sol_grid = initial_grid[:,:]"
   ]
  },
  {
   "cell_type": "markdown",
   "metadata": {},
   "source": [
    "# Tuning on the 'x[i,j,k]' values from the intial given soduko."
   ]
  },
  {
   "cell_type": "markdown",
   "metadata": {},
   "source": [
    "This cell below will take the intial solution from the matrix above and turn those specific x[i,j,k] constraints on **AS** constraints"
   ]
  },
  {
   "cell_type": "code",
   "execution_count": 17,
   "metadata": {},
   "outputs": [],
   "source": [
    "for i=1:9\n",
    "    for j=1:9\n",
    "        if sol_grid[i,j]!=0\n",
    "            @constraint(model, (x[i,j,sol_grid[i,j]])==1)\n",
    "        end\n",
    "    end\n",
    "end"
   ]
  },
  {
   "cell_type": "code",
   "execution_count": 18,
   "metadata": {},
   "outputs": [],
   "source": [
    "optimize!(model)"
   ]
  },
  {
   "cell_type": "code",
   "execution_count": 19,
   "metadata": {},
   "outputs": [
    {
     "data": {
      "text/plain": [
       "9×9 Array{Int64,2}:\n",
       " 3  6  5  7  1  8  2  4  9\n",
       " 4  2  1  9  6  3  8  7  5\n",
       " 9  8  7  4  2  5  3  6  1\n",
       " 7  3  4  8  5  6  1  9  2\n",
       " 5  9  2  1  4  7  6  8  3\n",
       " 8  1  6  2  3  9  4  5  7\n",
       " 6  7  8  3  9  1  5  2  4\n",
       " 2  5  3  6  7  4  9  1  8\n",
       " 1  4  9  5  8  2  7  3  6"
      ]
     },
     "execution_count": 19,
     "metadata": {},
     "output_type": "execute_result"
    }
   ],
   "source": [
    "turned_on = JuMP.value.(x)\n",
    "sol = zeros(Int,9,9)\n",
    "for i in 1:9\n",
    "    for j in 1:9\n",
    "        for k in 1:9\n",
    "            if turned_on[i,j,k]==1\n",
    "                sol[i,j]=k\n",
    "            end\n",
    "        end\n",
    "    end\n",
    "end\n",
    "sol"
   ]
  },
  {
   "cell_type": "code",
   "execution_count": null,
   "metadata": {},
   "outputs": [],
   "source": []
  }
 ],
 "metadata": {
  "kernelspec": {
   "display_name": "Julia 1.0.0",
   "language": "julia",
   "name": "julia-1.0"
  },
  "language_info": {
   "file_extension": ".jl",
   "mimetype": "application/julia",
   "name": "julia",
   "version": "1.0.0"
  }
 },
 "nbformat": 4,
 "nbformat_minor": 2
}
